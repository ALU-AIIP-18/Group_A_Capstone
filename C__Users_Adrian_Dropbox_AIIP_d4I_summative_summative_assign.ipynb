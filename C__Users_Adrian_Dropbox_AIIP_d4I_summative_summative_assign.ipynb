{
  "nbformat": 4,
  "nbformat_minor": 0,
  "metadata": {
    "kernelspec": {
      "display_name": "Python 3",
      "language": "python",
      "name": "python3"
    },
    "language_info": {
      "codemirror_mode": {
        "name": "ipython",
        "version": 3
      },
      "file_extension": ".py",
      "mimetype": "text/x-python",
      "name": "python",
      "nbconvert_exporter": "python",
      "pygments_lexer": "ipython3",
      "version": "3.7.6"
    },
    "colab": {
      "name": "C__Users_Adrian_Dropbox_AIIP_d4I_summative_summative_assign.ipynb",
      "provenance": [],
      "collapsed_sections": [],
      "include_colab_link": true
    }
  },
  "cells": [
    {
      "cell_type": "markdown",
      "metadata": {
        "id": "view-in-github",
        "colab_type": "text"
      },
      "source": [
        "<a href=\"https://colab.research.google.com/github/ALU-AIIP-18/Group_A_Capstone/blob/main/C__Users_Adrian_Dropbox_AIIP_d4I_summative_summative_assign.ipynb\" target=\"_parent\"><img src=\"https://colab.research.google.com/assets/colab-badge.svg\" alt=\"Open In Colab\"/></a>"
      ]
    },
    {
      "cell_type": "markdown",
      "metadata": {
        "id": "10rSpl2CkGCa"
      },
      "source": [
        "<img src=\"https://stateimpact.npr.org/texas/files/2012/01/solar-cropped.jpg\" >\n",
        "<h1><center> Edwards Pharmacy Exploratory Data Analysis & Condition Monitoring <center><h1>"
      ]
    },
    {
      "cell_type": "markdown",
      "metadata": {
        "id": "0SUIUoi1qp5c"
      },
      "source": [
        "**The Objectives**\n",
        "\n",
        " \n",
        "1. Can we use the digital twin to study output of plant and compare to ideal?\n",
        "2. Can we use the digital twin to predict the power generation for next few days?\n",
        "2. Can we identify faulty or suboptimally performing equipment?\n",
        "\n",
        "\n"
      ]
    },
    {
      "cell_type": "markdown",
      "metadata": {
        "id": "1llgGM08rXfC"
      },
      "source": [
        "**The Components**\n",
        "\n",
        "\n",
        "\n",
        "*   Physical Asset: 2 weeks data from a plant in SA\n",
        "*   Digital Twin : Analysis and Deductions from PV Lib\n",
        "*   Physical Asset II :Deductions and display\n",
        "\n",
        "\n",
        "\n",
        "\n"
      ]
    },
    {
      "cell_type": "markdown",
      "metadata": {
        "id": "qqUE6FVGt_L2"
      },
      "source": [
        "<a id=\"section-one\"></a>\n",
        "# 1. Introduction\n",
        "\n",
        "This notebook presents a layout of the scripts that will go into making the digital twin. The process involves undertaking web scrapping to obtain 12 day operational data from a real solar power plant in South Africa, obtained from the PVout website; a website that aggregates live data from real pv systems around the world. This data shall constitute the physical asse. The work shall then seek to leverage the availability of equipmnent data and the pvlib solar pv library to undertake taks that will meet the aforementioned objectives.\n",
        "\n",
        "\n",
        "## 1.1 Solar Power- A summary\n",
        "\n",
        "Solar pv plants make us of the photovoltaic effect, where photon absorption leads to injection of excited electrons into the conduction band. This leads to the generation of Dc power. The Dc power is subsequently converted to ac power using inveters. Aside from the solar pv modules themselves, weather and climate play an important role in predicting solar pv output. Some important parameters include: irradiance, ambient temperature and cloud cover. By accessing weather APis, it is possbile to undertake major tasks on solar pv data; including forecasting, predicting outpu and analysing anomalies. \n",
        "\n",
        "## 1.2 Dataset Description\n",
        "The the data contains 2 week data from a grid-tied solar power plant named \"Edward's Pharmacy in South Africa coordinates <a style=\"font-weight:bold\" href=\"https://www.google.com/maps/place/28%C2%B053'37.0%22S+31%C2%B028'05.9%22E/@-28.8935958,31.4677458,204m/data=!3m2!1e3!4b1!4m2!3m1!1s0x0:0x0\"> (-28.893597,31.468293)</a> .The data is sampled every 5 minutes, and sent to the <a style=\"font-weight:bold\" href=\"https://pvoutput.org/display.jsp?sid=45346\"> pvout website</a> .The dataset contains the following information:\n",
        "\n",
        "- Date and Time\n",
        "- Power and energy i.e geenrated and consumed\n",
        "- Ambient temperature\n",
        "\n",
        "The wesbite has an API key that only works if one has a system linked to the website. As such, a decision was made to obtain the dataset through webscrapping.\n",
        "\n",
        "## 1.3 The objectives\n",
        "- Can we use the digital twin to study output of plant and compare to ideal?\n",
        "- Can we use the digital twin to predict the power generation for next few days?\n",
        "- Can we identify faulty or suboptimally performing equipment?\n",
        "\n",
        "## 1.4 The Approach\n",
        "\n",
        "**Physical Asset- Script 1**\n",
        "- Webscrapping to obtain physical asset data.\n",
        "- Pre-process the data and generate a pandas dataframe. The entire script will be wrapped in a module for import to the \"digital twin\"\n",
        "\n",
        "**Digital Twin- Script 2**\n",
        "- Model output of digital twin and compare to similar dates in the past for physical asset, in order to evaluate performance, and inform on best tilt angle\n",
        "- Use linear regression to identify anomalies in generation data, and predict outages, shading, overloads.\n",
        "- Use pvlib library and equipment data to forecast for next few days\n",
        "\n",
        "**Physical Asset- Script 3**\n",
        "- Simulate Communication by visualising outputs from digital twin\n",
        "\n",
        "\n"
      ]
    },
    {
      "cell_type": "markdown",
      "metadata": {
        "id": "4ypRX9v0wLoS"
      },
      "source": [
        ""
      ]
    },
    {
      "cell_type": "markdown",
      "metadata": {
        "id": "y9FfL7CZwLlW"
      },
      "source": [
        "## **Physical Twin**"
      ]
    },
    {
      "cell_type": "code",
      "metadata": {
        "id": "_ORQqWNH4OQp"
      },
      "source": [
        "# !pip install pvlib\n"
      ],
      "execution_count": 163,
      "outputs": []
    },
    {
      "cell_type": "code",
      "metadata": {
        "id": "J_R67F6hqwdT"
      },
      "source": [
        "# !pip install netCDF4\n",
        "# !pip install siphon"
      ],
      "execution_count": 164,
      "outputs": []
    },
    {
      "cell_type": "code",
      "metadata": {
        "id": "n_Oz8LjFGz0B"
      },
      "source": [
        "import requests # for making standard html requests\n",
        "from bs4 import BeautifulSoup #l tool for parsing html data\n",
        "import json # for parsing json data\n",
        "import pandas as pd\n",
        "\n",
        "\n",
        "\n",
        "import datetime\n",
        "import seaborn as sns\n",
        "import matplotlib.pyplot as plt\n",
        "%matplotlib inline\n",
        "import plotly.express as px\n",
        "import plotly.graph_objects as go\n",
        "import matplotlib.dates as mdates \n",
        "xformatter = mdates.DateFormatter('%H:%M') # for time axis plots\n",
        "\n",
        "from pvlib import solarposition, irradiance, atmosphere, pvsystem, inverter, temperature\n",
        "from pvlib.forecast import GFS, NAM, NDFD, RAP, HRRR\n",
        "import sklearn\n",
        "from scipy.optimize import curve_fit\n",
        "\n",
        "import warnings\n",
        "warnings.filterwarnings('ignore')\n"
      ],
      "execution_count": 165,
      "outputs": []
    },
    {
      "cell_type": "code",
      "metadata": {
        "id": "f4Qlk8dZGz1p",
        "outputId": "ea3c36a4-f47b-411e-f621-e3d7ffe49812",
        "colab": {
          "base_uri": "https://localhost:8080/"
        }
      },
      "source": [
        "# The daily data is stored in data tables on the website which are differentiated by the 'dt' tag at the end, which contains the date\n",
        "# See here https://pvoutput.org/intraday.jsp?id=49819&sid=45346&dt=20201110\n",
        "# The process below generates dates starting from today going backwards 12 days, and add the date to the 'dt' tag\n",
        "\n",
        "#import date utils\n",
        "from datetime import date, timedelta\n",
        "\n",
        "#subtract 12 days\n",
        "dt = date.today() - timedelta(12)\n",
        "lst={d.strftime('%Y%m%d') for d in pd.date_range(dt,date.today())}\n",
        "\n",
        "#the base url address with a blank 'dt' tag that will be egenrate from a loop\n",
        "url_test = 'https://pvoutput.org/intraday.jsp?id=49819&sid=45346&dt=%s'\n",
        "\n",
        "# List comprehension to geenrate urls\n",
        "urls=[url_test %i for i in lst]\n",
        "urls.sort(key=lambda url: url.split('/')[-1], reverse=False)\n",
        "urls"
      ],
      "execution_count": 166,
      "outputs": [
        {
          "output_type": "execute_result",
          "data": {
            "text/plain": [
              "['https://pvoutput.org/intraday.jsp?id=49819&sid=45346&dt=20201105',\n",
              " 'https://pvoutput.org/intraday.jsp?id=49819&sid=45346&dt=20201106',\n",
              " 'https://pvoutput.org/intraday.jsp?id=49819&sid=45346&dt=20201107',\n",
              " 'https://pvoutput.org/intraday.jsp?id=49819&sid=45346&dt=20201108',\n",
              " 'https://pvoutput.org/intraday.jsp?id=49819&sid=45346&dt=20201109',\n",
              " 'https://pvoutput.org/intraday.jsp?id=49819&sid=45346&dt=20201110',\n",
              " 'https://pvoutput.org/intraday.jsp?id=49819&sid=45346&dt=20201111',\n",
              " 'https://pvoutput.org/intraday.jsp?id=49819&sid=45346&dt=20201112',\n",
              " 'https://pvoutput.org/intraday.jsp?id=49819&sid=45346&dt=20201113',\n",
              " 'https://pvoutput.org/intraday.jsp?id=49819&sid=45346&dt=20201114',\n",
              " 'https://pvoutput.org/intraday.jsp?id=49819&sid=45346&dt=20201115',\n",
              " 'https://pvoutput.org/intraday.jsp?id=49819&sid=45346&dt=20201116',\n",
              " 'https://pvoutput.org/intraday.jsp?id=49819&sid=45346&dt=20201117']"
            ]
          },
          "metadata": {
            "tags": []
          },
          "execution_count": 166
        }
      ]
    },
    {
      "cell_type": "code",
      "metadata": {
        "id": "3aEhNc5HIvku"
      },
      "source": [
        "#generate pages usign requests\n",
        "pages=[requests.get(j)for j in urls]\n",
        "\n",
        "#use beautiful soup to parse html\n",
        "soups=[BeautifulSoup(page.text, 'html.parser') for page in pages]\n"
      ],
      "execution_count": 167,
      "outputs": []
    },
    {
      "cell_type": "code",
      "metadata": {
        "id": "Iy3yiwhlKwxe"
      },
      "source": [
        "# This workflow extracts data from the datatables and generates a list of dataframes, one for each day\n",
        "tables=[soup.find('table',id='tb') for soup in soups]\n",
        "\n",
        "table_rows = [table.find_all('tr') for table in tables]\n",
        "\n",
        "\n",
        "rests=[]\n",
        "for table_row in table_rows:\n",
        "  res=[]\n",
        "  for tr in table_row:\n",
        "    td = tr.find_all('td')\n",
        "    row = [tr.text.strip() for tr in td if tr.text.strip()]\n",
        "    if row:\n",
        "        res.append(row)\n",
        "  rests.append(res)\n",
        "\n",
        "# Generate list of dataframes\n",
        "dfs = [pd.DataFrame(i, columns=['Date','Time','Energy(kWh)','Efficiency(kWh/kW)','Power(W)','Average(W)',\n",
        "      'Normalised(kW/kW)','Temperature(C)','Voltage(V)','Energy Used(kWh)','Power Used(W)']) for i in rests ]\n",
        "#Remove first row which picked erroneous data\n",
        "dfs=[df[1:] for df in dfs]         \n",
        "\n",
        "\n",
        "# Concatenate list of dataframes into single df\n",
        "data=pd.concat(dfs)\n",
        "\n",
        "\n",
        "# Preprocessign data\n",
        "# Removes \"W\", 'kWh' labels and thousand separator commas\n",
        "data['Energy(kWh)'] = data['Energy(kWh)'].str.replace('kWh', '')\n",
        "data['Efficiency(kWh/kW)'] = data['Efficiency(kWh/kW)'].str.replace('kWh/kW', '')\n",
        "data['Power(W)'] = data['Power(W)'].str.replace('W', '').str.replace(',', '')\n",
        "\n",
        "data['Average(W)'] = data['Average(W)'].str.replace('W', '')\n",
        "data['Normalised(kW/kW)'] = data['Normalised(kW/kW)'].str.replace('kW/kW', '')\n",
        "data['Temperature(C)'] = data['Temperature(C)'].str.replace('C', '')\n",
        "\n",
        "# data['Voltage(V)'] = data['Voltage(V)'].str.replace('-', 0)\n",
        "data['Energy Used(kWh)'] = data['Energy Used(kWh)'].str.replace('kWh', '')\n",
        "data['Power Used(W)'] = data['Power Used(W)'].str.replace('W', '').str.replace(',', '')\n",
        "\n",
        "#Combine Date and Time Columns and convert to Datetime\n",
        "data['Time']= pd.to_datetime(data['Time']).dt.strftime('%H:%M:%S')\n",
        "data['Datetime'] =pd.to_datetime(data['Date'] + ' ' + data['Time'])\n",
        "data.drop(['Date','Time'],axis=1,inplace=True)\n",
        "# data['Datetime']=data['Datetime'].apply(lambda x: x.strftime('%d%m%Y %H:%M:%S'))\n",
        "#data['Datetime']=pd.to_datetime(data['Datetime'])#.apply(str)+' '+data['Time'],format='%d/%m/%y %H:%M:%S')\n",
        "# cols=data.columns.drop(['Date','Time'])\n",
        "data[cols] = data[cols].apply(pd.to_numeric, errors='coerce')\n",
        "# data = data.drop(['Date','Time'], axis=1)\n",
        "\n",
        "#Reorder Columns\n",
        "data=data[['Datetime','Energy(kWh)', 'Efficiency(kWh/kW)', 'Power(W)', 'Average(W)',\n",
        "       'Normalised(kW/kW)', 'Temperature(C)', 'Voltage(V)', 'Energy Used(kWh)',\n",
        "       'Power Used(W)']]\n",
        "\n"
      ],
      "execution_count": 168,
      "outputs": []
    },
    {
      "cell_type": "code",
      "metadata": {
        "id": "0OiH_tzhs0zY",
        "outputId": "fb5f6077-c252-4ead-fab4-6b51d10b35c2",
        "colab": {
          "base_uri": "https://localhost:8080/"
        }
      },
      "source": [
        "data.dtypes"
      ],
      "execution_count": 169,
      "outputs": [
        {
          "output_type": "execute_result",
          "data": {
            "text/plain": [
              "Datetime              datetime64[ns]\n",
              "Energy(kWh)                  float64\n",
              "Efficiency(kWh/kW)           float64\n",
              "Power(W)                       int64\n",
              "Average(W)                   float64\n",
              "Normalised(kW/kW)            float64\n",
              "Temperature(C)               float64\n",
              "Voltage(V)                   float64\n",
              "Energy Used(kWh)             float64\n",
              "Power Used(W)                  int64\n",
              "dtype: object"
            ]
          },
          "metadata": {
            "tags": []
          },
          "execution_count": 169
        }
      ]
    },
    {
      "cell_type": "code",
      "metadata": {
        "id": "TmhYm2JAs9AD",
        "outputId": "3ab53446-22dc-415b-a598-e09492567f59",
        "colab": {
          "base_uri": "https://localhost:8080/",
          "height": 288
        }
      },
      "source": [
        "data.tail()"
      ],
      "execution_count": 170,
      "outputs": [
        {
          "output_type": "execute_result",
          "data": {
            "text/html": [
              "<div>\n",
              "<style scoped>\n",
              "    .dataframe tbody tr th:only-of-type {\n",
              "        vertical-align: middle;\n",
              "    }\n",
              "\n",
              "    .dataframe tbody tr th {\n",
              "        vertical-align: top;\n",
              "    }\n",
              "\n",
              "    .dataframe thead th {\n",
              "        text-align: right;\n",
              "    }\n",
              "</style>\n",
              "<table border=\"1\" class=\"dataframe\">\n",
              "  <thead>\n",
              "    <tr style=\"text-align: right;\">\n",
              "      <th></th>\n",
              "      <th>Datetime</th>\n",
              "      <th>Energy(kWh)</th>\n",
              "      <th>Efficiency(kWh/kW)</th>\n",
              "      <th>Power(W)</th>\n",
              "      <th>Average(W)</th>\n",
              "      <th>Normalised(kW/kW)</th>\n",
              "      <th>Temperature(C)</th>\n",
              "      <th>Voltage(V)</th>\n",
              "      <th>Energy Used(kWh)</th>\n",
              "      <th>Power Used(W)</th>\n",
              "    </tr>\n",
              "  </thead>\n",
              "  <tbody>\n",
              "    <tr>\n",
              "      <th>84</th>\n",
              "      <td>2020-11-17 00:40:00</td>\n",
              "      <td>NaN</td>\n",
              "      <td>NaN</td>\n",
              "      <td>0</td>\n",
              "      <td>NaN</td>\n",
              "      <td>NaN</td>\n",
              "      <td>19.4</td>\n",
              "      <td>NaN</td>\n",
              "      <td>0.998</td>\n",
              "      <td>1336</td>\n",
              "    </tr>\n",
              "    <tr>\n",
              "      <th>85</th>\n",
              "      <td>2020-11-17 00:30:00</td>\n",
              "      <td>NaN</td>\n",
              "      <td>NaN</td>\n",
              "      <td>0</td>\n",
              "      <td>NaN</td>\n",
              "      <td>NaN</td>\n",
              "      <td>19.4</td>\n",
              "      <td>NaN</td>\n",
              "      <td>0.776</td>\n",
              "      <td>1310</td>\n",
              "    </tr>\n",
              "    <tr>\n",
              "      <th>86</th>\n",
              "      <td>2020-11-17 00:20:00</td>\n",
              "      <td>NaN</td>\n",
              "      <td>NaN</td>\n",
              "      <td>0</td>\n",
              "      <td>NaN</td>\n",
              "      <td>NaN</td>\n",
              "      <td>19.4</td>\n",
              "      <td>NaN</td>\n",
              "      <td>0.557</td>\n",
              "      <td>1334</td>\n",
              "    </tr>\n",
              "    <tr>\n",
              "      <th>87</th>\n",
              "      <td>2020-11-17 00:10:00</td>\n",
              "      <td>NaN</td>\n",
              "      <td>NaN</td>\n",
              "      <td>0</td>\n",
              "      <td>NaN</td>\n",
              "      <td>NaN</td>\n",
              "      <td>19.4</td>\n",
              "      <td>NaN</td>\n",
              "      <td>0.335</td>\n",
              "      <td>1341</td>\n",
              "    </tr>\n",
              "    <tr>\n",
              "      <th>88</th>\n",
              "      <td>2020-11-17 00:00:00</td>\n",
              "      <td>NaN</td>\n",
              "      <td>NaN</td>\n",
              "      <td>0</td>\n",
              "      <td>NaN</td>\n",
              "      <td>NaN</td>\n",
              "      <td>NaN</td>\n",
              "      <td>NaN</td>\n",
              "      <td>0.000</td>\n",
              "      <td>1336</td>\n",
              "    </tr>\n",
              "  </tbody>\n",
              "</table>\n",
              "</div>"
            ],
            "text/plain": [
              "              Datetime  Energy(kWh)  ...  Energy Used(kWh)  Power Used(W)\n",
              "84 2020-11-17 00:40:00          NaN  ...             0.998           1336\n",
              "85 2020-11-17 00:30:00          NaN  ...             0.776           1310\n",
              "86 2020-11-17 00:20:00          NaN  ...             0.557           1334\n",
              "87 2020-11-17 00:10:00          NaN  ...             0.335           1341\n",
              "88 2020-11-17 00:00:00          NaN  ...             0.000           1336\n",
              "\n",
              "[5 rows x 10 columns]"
            ]
          },
          "metadata": {
            "tags": []
          },
          "execution_count": 170
        }
      ]
    },
    {
      "cell_type": "code",
      "metadata": {
        "id": "CJ6UXQAOs8lE",
        "outputId": "d9d73623-005d-4044-a323-25627e821960",
        "colab": {
          "base_uri": "https://localhost:8080/"
        }
      },
      "source": [
        "data.isnull().sum(axis=0)"
      ],
      "execution_count": 171,
      "outputs": [
        {
          "output_type": "execute_result",
          "data": {
            "text/plain": [
              "Datetime                 0\n",
              "Energy(kWh)             30\n",
              "Efficiency(kWh/kW)      30\n",
              "Power(W)                 0\n",
              "Average(W)            1499\n",
              "Normalised(kW/kW)       43\n",
              "Temperature(C)          17\n",
              "Voltage(V)            3170\n",
              "Energy Used(kWh)         0\n",
              "Power Used(W)            0\n",
              "dtype: int64"
            ]
          },
          "metadata": {
            "tags": []
          },
          "execution_count": 171
        }
      ]
    },
    {
      "cell_type": "code",
      "metadata": {
        "id": "02rPwuS5uuYa"
      },
      "source": [
        "# Drop values where temperature is null\n",
        "# For other values fill null with zero ...there's no power output at night\n",
        "# Drop Voltage column since it has not values\n",
        "data['Energy(kWh)']= data['Energy(kWh)'].fillna(0)\n",
        "data = data[data['Temperature(C)'].notna()]\n",
        "data.drop('Voltage(V)',axis=1,inplace=True)\n",
        "data=data.fillna(0)"
      ],
      "execution_count": 172,
      "outputs": []
    },
    {
      "cell_type": "code",
      "metadata": {
        "id": "yyIjZZrAxAmz",
        "outputId": "3193ac0d-574d-4860-a8ec-b4fd37cb58d4",
        "colab": {
          "base_uri": "https://localhost:8080/"
        }
      },
      "source": [
        "data.isnull().sum(axis=0)"
      ],
      "execution_count": 173,
      "outputs": [
        {
          "output_type": "execute_result",
          "data": {
            "text/plain": [
              "Datetime              0\n",
              "Energy(kWh)           0\n",
              "Efficiency(kWh/kW)    0\n",
              "Power(W)              0\n",
              "Average(W)            0\n",
              "Normalised(kW/kW)     0\n",
              "Temperature(C)        0\n",
              "Energy Used(kWh)      0\n",
              "Power Used(W)         0\n",
              "dtype: int64"
            ]
          },
          "metadata": {
            "tags": []
          },
          "execution_count": 173
        }
      ]
    },
    {
      "cell_type": "code",
      "metadata": {
        "id": "N3SWm9Vwwtp1",
        "outputId": "44e8c22a-d844-4fb6-be63-3ea46421243b",
        "colab": {
          "base_uri": "https://localhost:8080/",
          "height": 277
        }
      },
      "source": [
        "data.describe().T"
      ],
      "execution_count": 175,
      "outputs": [
        {
          "output_type": "execute_result",
          "data": {
            "text/html": [
              "<div>\n",
              "<style scoped>\n",
              "    .dataframe tbody tr th:only-of-type {\n",
              "        vertical-align: middle;\n",
              "    }\n",
              "\n",
              "    .dataframe tbody tr th {\n",
              "        vertical-align: top;\n",
              "    }\n",
              "\n",
              "    .dataframe thead th {\n",
              "        text-align: right;\n",
              "    }\n",
              "</style>\n",
              "<table border=\"1\" class=\"dataframe\">\n",
              "  <thead>\n",
              "    <tr style=\"text-align: right;\">\n",
              "      <th></th>\n",
              "      <th>count</th>\n",
              "      <th>mean</th>\n",
              "      <th>std</th>\n",
              "      <th>min</th>\n",
              "      <th>25%</th>\n",
              "      <th>50%</th>\n",
              "      <th>75%</th>\n",
              "      <th>max</th>\n",
              "    </tr>\n",
              "  </thead>\n",
              "  <tbody>\n",
              "    <tr>\n",
              "      <th>Energy(kWh)</th>\n",
              "      <td>3153.0</td>\n",
              "      <td>29.835184</td>\n",
              "      <td>31.490756</td>\n",
              "      <td>0.0</td>\n",
              "      <td>0.383</td>\n",
              "      <td>14.769</td>\n",
              "      <td>53.216</td>\n",
              "      <td>92.041</td>\n",
              "    </tr>\n",
              "    <tr>\n",
              "      <th>Efficiency(kWh/kW)</th>\n",
              "      <td>3153.0</td>\n",
              "      <td>1.950018</td>\n",
              "      <td>2.058237</td>\n",
              "      <td>0.0</td>\n",
              "      <td>0.025</td>\n",
              "      <td>0.965</td>\n",
              "      <td>3.478</td>\n",
              "      <td>6.016</td>\n",
              "    </tr>\n",
              "    <tr>\n",
              "      <th>Power(W)</th>\n",
              "      <td>3153.0</td>\n",
              "      <td>2511.324136</td>\n",
              "      <td>3690.596523</td>\n",
              "      <td>0.0</td>\n",
              "      <td>0.000</td>\n",
              "      <td>922.000</td>\n",
              "      <td>3661.000</td>\n",
              "      <td>13517.000</td>\n",
              "    </tr>\n",
              "    <tr>\n",
              "      <th>Average(W)</th>\n",
              "      <td>3153.0</td>\n",
              "      <td>62.955281</td>\n",
              "      <td>227.702603</td>\n",
              "      <td>0.0</td>\n",
              "      <td>0.000</td>\n",
              "      <td>0.000</td>\n",
              "      <td>0.000</td>\n",
              "      <td>996.000</td>\n",
              "    </tr>\n",
              "    <tr>\n",
              "      <th>Normalised(kW/kW)</th>\n",
              "      <td>3153.0</td>\n",
              "      <td>0.164109</td>\n",
              "      <td>0.241210</td>\n",
              "      <td>0.0</td>\n",
              "      <td>0.000</td>\n",
              "      <td>0.060</td>\n",
              "      <td>0.238</td>\n",
              "      <td>0.883</td>\n",
              "    </tr>\n",
              "    <tr>\n",
              "      <th>Temperature(C)</th>\n",
              "      <td>3153.0</td>\n",
              "      <td>20.485411</td>\n",
              "      <td>4.594959</td>\n",
              "      <td>13.9</td>\n",
              "      <td>16.100</td>\n",
              "      <td>19.400</td>\n",
              "      <td>23.300</td>\n",
              "      <td>36.700</td>\n",
              "    </tr>\n",
              "    <tr>\n",
              "      <th>Energy Used(kWh)</th>\n",
              "      <td>3153.0</td>\n",
              "      <td>62.011710</td>\n",
              "      <td>63.278631</td>\n",
              "      <td>0.0</td>\n",
              "      <td>7.035</td>\n",
              "      <td>33.254</td>\n",
              "      <td>106.130</td>\n",
              "      <td>223.651</td>\n",
              "    </tr>\n",
              "    <tr>\n",
              "      <th>Power Used(W)</th>\n",
              "      <td>3153.0</td>\n",
              "      <td>5539.149064</td>\n",
              "      <td>7154.230913</td>\n",
              "      <td>0.0</td>\n",
              "      <td>1191.000</td>\n",
              "      <td>1328.000</td>\n",
              "      <td>8701.000</td>\n",
              "      <td>30855.000</td>\n",
              "    </tr>\n",
              "  </tbody>\n",
              "</table>\n",
              "</div>"
            ],
            "text/plain": [
              "                     count         mean  ...       75%        max\n",
              "Energy(kWh)         3153.0    29.835184  ...    53.216     92.041\n",
              "Efficiency(kWh/kW)  3153.0     1.950018  ...     3.478      6.016\n",
              "Power(W)            3153.0  2511.324136  ...  3661.000  13517.000\n",
              "Average(W)          3153.0    62.955281  ...     0.000    996.000\n",
              "Normalised(kW/kW)   3153.0     0.164109  ...     0.238      0.883\n",
              "Temperature(C)      3153.0    20.485411  ...    23.300     36.700\n",
              "Energy Used(kWh)    3153.0    62.011710  ...   106.130    223.651\n",
              "Power Used(W)       3153.0  5539.149064  ...  8701.000  30855.000\n",
              "\n",
              "[8 rows x 8 columns]"
            ]
          },
          "metadata": {
            "tags": []
          },
          "execution_count": 175
        }
      ]
    },
    {
      "cell_type": "code",
      "metadata": {
        "id": "tBBScUHSGz3X"
      },
      "source": [
        ""
      ],
      "execution_count": null,
      "outputs": []
    },
    {
      "cell_type": "markdown",
      "metadata": {
        "id": "_ipG50-3v7UY"
      },
      "source": [
        "## **Digital Twin**"
      ]
    },
    {
      "cell_type": "markdown",
      "metadata": {
        "id": "-cT0wQpO3j_V"
      },
      "source": [
        "#### correlation"
      ]
    },
    {
      "cell_type": "code",
      "metadata": {
        "id": "thuY2cV33yRN"
      },
      "source": [
        "data.columns"
      ],
      "execution_count": null,
      "outputs": []
    },
    {
      "cell_type": "code",
      "metadata": {
        "id": "UYkUf_giGz3e",
        "outputId": "81645130-e24a-4ae0-f22a-227c3206fa06",
        "colab": {
          "base_uri": "https://localhost:8080/",
          "height": 412
        }
      },
      "source": [
        "cols_corr = ['Energy(kWh)', 'Efficiency(kWh/kW)', 'Power(W)',\n",
        "       'Average(W)', 'Normalised(kW/kW)', 'Temperature(C)', 'Energy Used(kWh)',\n",
        "       'Power Used(W)']\n",
        "corrMatrix = data[cols_corr].corr()\n",
        "plt.figure(figsize=(15,5))\n",
        "fig_corr = sns.heatmap(corrMatrix,cmap=\"YlGnBu\", annot=True)\n",
        "plt.show()"
      ],
      "execution_count": 176,
      "outputs": [
        {
          "output_type": "display_data",
          "data": {
            "image/png": "[encoded data removed]",
            "text/plain": [
              "<Figure size 1080x360 with 2 Axes>"
            ]
          },
          "metadata": {
            "tags": [],
            "needs_background": "light"
          }
        }
      ]
    },
    {
      "cell_type": "code",
      "metadata": {
        "id": "lx6E1TImtj48"
      },
      "source": [
        ""
      ],
      "execution_count": null,
      "outputs": []
    }
  ]
}